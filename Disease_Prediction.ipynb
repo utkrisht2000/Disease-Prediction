{
  "nbformat": 4,
  "nbformat_minor": 0,
  "metadata": {
    "colab": {
      "provenance": [],
      "authorship_tag": "ABX9TyMAN1siGgcFDeblMQH2/AwE",
      "include_colab_link": true
    },
    "kernelspec": {
      "name": "python3",
      "display_name": "Python 3"
    },
    "language_info": {
      "name": "python"
    }
  },
  "cells": [
    {
      "cell_type": "markdown",
      "metadata": {
        "id": "view-in-github",
        "colab_type": "text"
      },
      "source": [
        "<a href=\"https://colab.research.google.com/github/utkrisht2000/Disease-Prediction/blob/main/Disease_Prediction.ipynb\" target=\"_parent\"><img src=\"https://colab.research.google.com/assets/colab-badge.svg\" alt=\"Open In Colab\"/></a>"
      ]
    },
    {
      "cell_type": "code",
      "execution_count": 1,
      "metadata": {
        "id": "PviPVsjbCJfA"
      },
      "outputs": [],
      "source": [
        "# Importing the libraries\n",
        "import numpy as np\n",
        "import matplotlib.pyplot as plt\n",
        "import pandas as pd"
      ]
    },
    {
      "cell_type": "code",
      "source": [
        "# Mount Drive\n",
        "\n",
        "from google.colab import drive\n",
        "drive.mount('/content/drive')"
      ],
      "metadata": {
        "colab": {
          "base_uri": "https://localhost:8080/"
        },
        "id": "IDVqXntACd_a",
        "outputId": "984de88e-a095-4034-e91d-f46de8a02e44"
      },
      "execution_count": 2,
      "outputs": [
        {
          "output_type": "stream",
          "name": "stdout",
          "text": [
            "Mounted at /content/drive\n"
          ]
        }
      ]
    },
    {
      "cell_type": "code",
      "source": [
        "# Importing the dataset\n",
        "\n",
        "dataset = pd.read_csv('/content/drive/MyDrive/Projects/Disease Prediction/Training.csv')\n",
        "X = dataset.iloc[:, 0:-1].values\n",
        "y = dataset.iloc[:, -1].values"
      ],
      "metadata": {
        "id": "su90Jn-XC7Cz"
      },
      "execution_count": 3,
      "outputs": []
    },
    {
      "cell_type": "code",
      "source": [
        "# Random Forest Classifier\n",
        "\n",
        "from sklearn.ensemble import RandomForestClassifier\n",
        "classifer = RandomForestClassifier()\n",
        "classifer.fit(X, y)"
      ],
      "metadata": {
        "colab": {
          "base_uri": "https://localhost:8080/"
        },
        "id": "yE121ImPDDn3",
        "outputId": "76f0d431-9392-4da9-de4a-37c64165e63d"
      },
      "execution_count": 4,
      "outputs": [
        {
          "output_type": "execute_result",
          "data": {
            "text/plain": [
              "RandomForestClassifier()"
            ]
          },
          "metadata": {},
          "execution_count": 4
        }
      ]
    },
    {
      "cell_type": "code",
      "source": [
        "# Prediction Function\n",
        "\n",
        "indices = [i for i in range(132)]\n",
        "symptoms = dataset.columns.values[:-1]\n",
        "\n",
        "dictionary = dict(zip(symptoms,indices))\n",
        "\n",
        "def dosomething(symptom):\n",
        "    user_input_symptoms = symptom\n",
        "    user_input_label = [0 for i in range(132)]\n",
        "    for i in user_input_symptoms:\n",
        "        idx = dictionary[i]\n",
        "        user_input_label[idx] = 1\n",
        "\n",
        "    user_input_label = np.array(user_input_label)\n",
        "    user_input_label = user_input_label.reshape((-1,1)).transpose()\n",
        "    return(classifer.predict(user_input_label))"
      ],
      "metadata": {
        "id": "KaS9ZjYCDMAv"
      },
      "execution_count": 5,
      "outputs": []
    },
    {
      "cell_type": "code",
      "source": [
        "# Prediction [Random Forest]\n",
        "\n",
        "print(dosomething(['headache','muscle_weakness','puffy_face_and_eyes','mild_fever','skin_rash']))"
      ],
      "metadata": {
        "colab": {
          "base_uri": "https://localhost:8080/"
        },
        "id": "Toa8vLppDTnK",
        "outputId": "1f8c93ba-af87-4639-fd99-9723cd50a15b"
      },
      "execution_count": 6,
      "outputs": [
        {
          "output_type": "stream",
          "name": "stdout",
          "text": [
            "['Arthritis']\n"
          ]
        }
      ]
    },
    {
      "cell_type": "code",
      "source": [
        "# Naive Bayes\n",
        "\n",
        "from sklearn.naive_bayes import GaussianNB\n",
        "classifer = GaussianNB()\n",
        "classifer.fit(X, y)"
      ],
      "metadata": {
        "colab": {
          "base_uri": "https://localhost:8080/"
        },
        "id": "nXAKhY27NPBe",
        "outputId": "6bb79f96-76b0-4279-9b23-9dc0dbee3262"
      },
      "execution_count": 7,
      "outputs": [
        {
          "output_type": "execute_result",
          "data": {
            "text/plain": [
              "GaussianNB()"
            ]
          },
          "metadata": {},
          "execution_count": 7
        }
      ]
    },
    {
      "cell_type": "code",
      "source": [
        "# Prediction [Naive Bayes]\n",
        "\n",
        "print(dosomething(['headache','muscle_weakness','puffy_face_and_eyes','mild_fever','skin_rash']))"
      ],
      "metadata": {
        "colab": {
          "base_uri": "https://localhost:8080/"
        },
        "id": "E9KFnVnBNkzJ",
        "outputId": "b5997f2f-9a8a-4acb-d58e-1ee4fa0bd094"
      },
      "execution_count": 8,
      "outputs": [
        {
          "output_type": "stream",
          "name": "stdout",
          "text": [
            "['Acne']\n"
          ]
        }
      ]
    },
    {
      "cell_type": "code",
      "source": [
        "# Decision Tree\n",
        "\n",
        "from sklearn import tree\n",
        "classifer = tree.DecisionTreeClassifier() \n",
        "classifer.fit(X, y)"
      ],
      "metadata": {
        "colab": {
          "base_uri": "https://localhost:8080/"
        },
        "id": "sTEpF3BlNp_S",
        "outputId": "cf9f15e0-aaa0-498d-dc8a-3a379511176b"
      },
      "execution_count": 9,
      "outputs": [
        {
          "output_type": "execute_result",
          "data": {
            "text/plain": [
              "DecisionTreeClassifier()"
            ]
          },
          "metadata": {},
          "execution_count": 9
        }
      ]
    },
    {
      "cell_type": "code",
      "source": [
        "# Prediction [Decision Tree]\n",
        "\n",
        "print(dosomething(['headache','muscle_weakness','puffy_face_and_eyes','mild_fever','skin_rash']))"
      ],
      "metadata": {
        "colab": {
          "base_uri": "https://localhost:8080/"
        },
        "id": "KuroYHRJNqDi",
        "outputId": "861c6c30-f9fa-4755-fdb3-03db52585eb0"
      },
      "execution_count": 10,
      "outputs": [
        {
          "output_type": "stream",
          "name": "stdout",
          "text": [
            "['Arthritis']\n"
          ]
        }
      ]
    },
    {
      "cell_type": "code",
      "source": [
        "# Importing the Testing Dataset\n",
        "\n",
        "dataset = pd.read_csv('/content/drive/MyDrive/Projects/Disease Prediction/Testing.csv')\n",
        "X_test = dataset.iloc[:, 0:-1].values\n",
        "y_test = dataset.iloc[:, -1].values"
      ],
      "metadata": {
        "id": "mQ0zYKExNqKp"
      },
      "execution_count": 11,
      "outputs": []
    },
    {
      "cell_type": "code",
      "source": [
        "#  Prediction\n",
        "\n",
        "from sklearn.metrics import accuracy_score, confusion_matrix\n",
        "y_pred = classifer.predict(X_test)\n",
        "print(\"Accuracy Score is\", accuracy_score(y_test, y_pred) * 100)"
      ],
      "metadata": {
        "colab": {
          "base_uri": "https://localhost:8080/"
        },
        "id": "ZuZyIIQ4OWSo",
        "outputId": "b130d0a0-7144-4522-b081-395df46f6ef4"
      },
      "execution_count": 24,
      "outputs": [
        {
          "output_type": "stream",
          "name": "stdout",
          "text": [
            "Accuracy Score is 100.0\n"
          ]
        }
      ]
    }
  ]
}